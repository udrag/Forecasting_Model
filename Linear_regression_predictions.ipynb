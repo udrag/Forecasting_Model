{
 "cells": [
  {
   "cell_type": "code",
   "execution_count": null,
   "outputs": [],
   "source": [
    "# Import libraries\n",
    "from utils import *"
   ],
   "metadata": {
    "collapsed": false
   }
  },
  {
   "cell_type": "code",
   "execution_count": 2,
   "outputs": [],
   "source": [
    "# Load data\n",
    "df = pd.read_csv('~/weather_data_bucharest_2000_2023.csv', encoding = \"ISO-8859-1\")\n",
    "#df = pd.read_csv('/Users/home/My Drive/Data analyst/Projects/Linear_Regression/second_dataset.csv')"
   ],
   "metadata": {
    "collapsed": false,
    "pycharm": {
     "is_executing": true
    },
    "ExecuteTime": {
     "end_time": "2023-11-21T10:23:34.787860Z",
     "start_time": "2023-11-21T10:23:34.740754Z"
    }
   }
  },
  {
   "cell_type": "code",
   "execution_count": 3,
   "outputs": [],
   "source": [
    "# Split data into independent and dependent variables. The first column should be the dependent variable y.\n",
    "y = df.iloc[:, 0] # The Y-axis variable\n",
    "x = df.iloc[:, 1:] #.drop(columns='temp', axis=1)"
   ],
   "metadata": {
    "collapsed": false,
    "pycharm": {
     "is_executing": true
    },
    "ExecuteTime": {
     "end_time": "2023-11-21T10:23:34.789211Z",
     "start_time": "2023-11-21T10:23:34.785144Z"
    }
   }
  },
  {
   "cell_type": "code",
   "execution_count": 4,
   "outputs": [],
   "source": [
    "# Split the data into 3 samples: train, cross validation (cv) and test\n",
    "x_train, x_, y_train, y_ = train_test_split(x, y, train_size=.6, shuffle=False)\n",
    "x_cv, x_test, y_cv, y_test = train_test_split(x_, y_, test_size=.5, shuffle=False)"
   ],
   "metadata": {
    "collapsed": false,
    "pycharm": {
     "is_executing": true
    },
    "ExecuteTime": {
     "end_time": "2023-11-21T10:23:34.802455Z",
     "start_time": "2023-11-21T10:23:34.791509Z"
    }
   }
  }
 ],
 "metadata": {
  "kernelspec": {
   "display_name": "Python 3",
   "language": "python",
   "name": "python3"
  },
  "language_info": {
   "codemirror_mode": {
    "name": "ipython",
    "version": 2
   },
   "file_extension": ".py",
   "mimetype": "text/x-python",
   "name": "python",
   "nbconvert_exporter": "python",
   "pygments_lexer": "ipython2",
   "version": "2.7.6"
  }
 },
 "nbformat": 4,
 "nbformat_minor": 0
}
