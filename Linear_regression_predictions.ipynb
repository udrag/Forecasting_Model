{
 "cells": [
  {
   "cell_type": "code",
   "execution_count": 5,
   "outputs": [],
   "source": [
    "# Import libraries\n",
    "from utils import *"
   ],
   "metadata": {
    "collapsed": false,
    "ExecuteTime": {
     "end_time": "2023-11-22T14:49:20.005862Z",
     "start_time": "2023-11-22T14:49:19.997528Z"
    }
   }
  },
  {
   "cell_type": "code",
   "execution_count": 6,
   "outputs": [],
   "source": [
    "# Load data (please note to change file location below)\n",
    "df = pd.read_csv('~/weather_data_bucharest_2000_2023.csv', encoding = \"ISO-8859-1\")"
   ],
   "metadata": {
    "collapsed": false,
    "pycharm": {
     "is_executing": true
    },
    "ExecuteTime": {
     "end_time": "2023-11-22T14:49:20.787911Z",
     "start_time": "2023-11-22T14:49:20.750921Z"
    }
   }
  },
  {
   "cell_type": "code",
   "execution_count": 7,
   "outputs": [],
   "source": [
    "# Split data into independent and dependent variables. The first column should be the dependent variable y.\n",
    "y = df.iloc[:, 0] # The Y-axis variable\n",
    "x = df.iloc[:, 1:] #.drop(columns='temp', axis=1)"
   ],
   "metadata": {
    "collapsed": false,
    "pycharm": {
     "is_executing": true
    },
    "ExecuteTime": {
     "end_time": "2023-11-22T14:49:21.531969Z",
     "start_time": "2023-11-22T14:49:21.528943Z"
    }
   }
  },
  {
   "cell_type": "code",
   "execution_count": 8,
   "outputs": [],
   "source": [
    "# Split the data into 3 samples: train, cross validation (cv) and test\n",
    "x_train, x_, y_train, y_ = train_test_split(x, y, train_size=.6, shuffle=False)\n",
    "x_cv, x_test, y_cv, y_test = train_test_split(x_, y_, test_size=.5, shuffle=False)"
   ],
   "metadata": {
    "collapsed": false,
    "pycharm": {
     "is_executing": true
    },
    "ExecuteTime": {
     "end_time": "2023-11-22T14:49:22.035053Z",
     "start_time": "2023-11-22T14:49:22.026572Z"
    }
   }
  }
 ],
 "metadata": {
  "kernelspec": {
   "display_name": "Python 3",
   "language": "python",
   "name": "python3"
  },
  "language_info": {
   "codemirror_mode": {
    "name": "ipython",
    "version": 2
   },
   "file_extension": ".py",
   "mimetype": "text/x-python",
   "name": "python",
   "nbconvert_exporter": "python",
   "pygments_lexer": "ipython2",
   "version": "2.7.6"
  }
 },
 "nbformat": 4,
 "nbformat_minor": 0
}
